{
 "cells": [
  {
   "cell_type": "code",
   "execution_count": 9,
   "metadata": {},
   "outputs": [
    {
     "name": "stdout",
     "output_type": "stream",
     "text": [
      "Defaulting to user installation because normal site-packages is not writeable\n",
      "Requirement already satisfied: opencv-python in c:\\users\\sarojini.g\\appdata\\roaming\\python\\python312\\site-packages (4.10.0.84)\n",
      "Requirement already satisfied: pytesseract in c:\\users\\sarojini.g\\appdata\\roaming\\python\\python312\\site-packages (0.3.10)\n",
      "Requirement already satisfied: Pillow in c:\\users\\sarojini.g\\appdata\\roaming\\python\\python312\\site-packages (10.3.0)\n",
      "Requirement already satisfied: ipywidgets in c:\\users\\sarojini.g\\appdata\\roaming\\python\\python312\\site-packages (8.1.2)\n",
      "Requirement already satisfied: numpy>=1.21.2 in c:\\users\\sarojini.g\\appdata\\roaming\\python\\python312\\site-packages (from opencv-python) (1.26.4)\n",
      "Requirement already satisfied: packaging>=21.3 in c:\\users\\sarojini.g\\appdata\\roaming\\python\\python312\\site-packages (from pytesseract) (24.0)\n",
      "Requirement already satisfied: comm>=0.1.3 in c:\\users\\sarojini.g\\appdata\\roaming\\python\\python312\\site-packages (from ipywidgets) (0.2.2)\n",
      "Requirement already satisfied: ipython>=6.1.0 in c:\\users\\sarojini.g\\appdata\\roaming\\python\\python312\\site-packages (from ipywidgets) (8.23.0)\n",
      "Requirement already satisfied: traitlets>=4.3.1 in c:\\users\\sarojini.g\\appdata\\roaming\\python\\python312\\site-packages (from ipywidgets) (5.14.2)\n",
      "Requirement already satisfied: widgetsnbextension~=4.0.10 in c:\\users\\sarojini.g\\appdata\\roaming\\python\\python312\\site-packages (from ipywidgets) (4.0.10)\n",
      "Requirement already satisfied: jupyterlab-widgets~=3.0.10 in c:\\users\\sarojini.g\\appdata\\roaming\\python\\python312\\site-packages (from ipywidgets) (3.0.10)\n",
      "Requirement already satisfied: decorator in c:\\users\\sarojini.g\\appdata\\roaming\\python\\python312\\site-packages (from ipython>=6.1.0->ipywidgets) (5.1.1)\n",
      "Requirement already satisfied: jedi>=0.16 in c:\\users\\sarojini.g\\appdata\\roaming\\python\\python312\\site-packages (from ipython>=6.1.0->ipywidgets) (0.19.1)\n",
      "Requirement already satisfied: matplotlib-inline in c:\\users\\sarojini.g\\appdata\\roaming\\python\\python312\\site-packages (from ipython>=6.1.0->ipywidgets) (0.1.6)\n",
      "Requirement already satisfied: prompt-toolkit<3.1.0,>=3.0.41 in c:\\users\\sarojini.g\\appdata\\roaming\\python\\python312\\site-packages (from ipython>=6.1.0->ipywidgets) (3.0.43)\n",
      "Requirement already satisfied: pygments>=2.4.0 in c:\\users\\sarojini.g\\appdata\\roaming\\python\\python312\\site-packages (from ipython>=6.1.0->ipywidgets) (2.17.2)\n",
      "Requirement already satisfied: stack-data in c:\\users\\sarojini.g\\appdata\\roaming\\python\\python312\\site-packages (from ipython>=6.1.0->ipywidgets) (0.6.3)\n",
      "Requirement already satisfied: colorama in c:\\users\\sarojini.g\\appdata\\roaming\\python\\python312\\site-packages (from ipython>=6.1.0->ipywidgets) (0.4.6)\n",
      "Requirement already satisfied: parso<0.9.0,>=0.8.3 in c:\\users\\sarojini.g\\appdata\\roaming\\python\\python312\\site-packages (from jedi>=0.16->ipython>=6.1.0->ipywidgets) (0.8.4)\n",
      "Requirement already satisfied: wcwidth in c:\\users\\sarojini.g\\appdata\\roaming\\python\\python312\\site-packages (from prompt-toolkit<3.1.0,>=3.0.41->ipython>=6.1.0->ipywidgets) (0.2.13)\n",
      "Requirement already satisfied: executing>=1.2.0 in c:\\users\\sarojini.g\\appdata\\roaming\\python\\python312\\site-packages (from stack-data->ipython>=6.1.0->ipywidgets) (2.0.1)\n",
      "Requirement already satisfied: asttokens>=2.1.0 in c:\\users\\sarojini.g\\appdata\\roaming\\python\\python312\\site-packages (from stack-data->ipython>=6.1.0->ipywidgets) (2.4.1)\n",
      "Requirement already satisfied: pure-eval in c:\\users\\sarojini.g\\appdata\\roaming\\python\\python312\\site-packages (from stack-data->ipython>=6.1.0->ipywidgets) (0.2.2)\n",
      "Requirement already satisfied: six>=1.12.0 in c:\\users\\sarojini.g\\appdata\\roaming\\python\\python312\\site-packages (from asttokens>=2.1.0->stack-data->ipython>=6.1.0->ipywidgets) (1.16.0)\n",
      "Note: you may need to restart the kernel to use updated packages.\n"
     ]
    }
   ],
   "source": [
    "pip install opencv-python pytesseract Pillow ipywidgets\n"
   ]
  },
  {
   "cell_type": "code",
   "execution_count": 10,
   "metadata": {},
   "outputs": [
    {
     "name": "stdout",
     "output_type": "stream",
     "text": [
      "Defaulting to user installation because normal site-packages is not writeable\n",
      "Requirement already satisfied: ipywidgets in c:\\users\\sarojini.g\\appdata\\roaming\\python\\python312\\site-packages (8.1.2)\n",
      "Requirement already satisfied: comm>=0.1.3 in c:\\users\\sarojini.g\\appdata\\roaming\\python\\python312\\site-packages (from ipywidgets) (0.2.2)\n",
      "Requirement already satisfied: ipython>=6.1.0 in c:\\users\\sarojini.g\\appdata\\roaming\\python\\python312\\site-packages (from ipywidgets) (8.23.0)\n",
      "Requirement already satisfied: traitlets>=4.3.1 in c:\\users\\sarojini.g\\appdata\\roaming\\python\\python312\\site-packages (from ipywidgets) (5.14.2)\n",
      "Requirement already satisfied: widgetsnbextension~=4.0.10 in c:\\users\\sarojini.g\\appdata\\roaming\\python\\python312\\site-packages (from ipywidgets) (4.0.10)\n",
      "Requirement already satisfied: jupyterlab-widgets~=3.0.10 in c:\\users\\sarojini.g\\appdata\\roaming\\python\\python312\\site-packages (from ipywidgets) (3.0.10)\n",
      "Requirement already satisfied: decorator in c:\\users\\sarojini.g\\appdata\\roaming\\python\\python312\\site-packages (from ipython>=6.1.0->ipywidgets) (5.1.1)\n",
      "Requirement already satisfied: jedi>=0.16 in c:\\users\\sarojini.g\\appdata\\roaming\\python\\python312\\site-packages (from ipython>=6.1.0->ipywidgets) (0.19.1)\n",
      "Requirement already satisfied: matplotlib-inline in c:\\users\\sarojini.g\\appdata\\roaming\\python\\python312\\site-packages (from ipython>=6.1.0->ipywidgets) (0.1.6)\n",
      "Requirement already satisfied: prompt-toolkit<3.1.0,>=3.0.41 in c:\\users\\sarojini.g\\appdata\\roaming\\python\\python312\\site-packages (from ipython>=6.1.0->ipywidgets) (3.0.43)\n",
      "Requirement already satisfied: pygments>=2.4.0 in c:\\users\\sarojini.g\\appdata\\roaming\\python\\python312\\site-packages (from ipython>=6.1.0->ipywidgets) (2.17.2)\n",
      "Requirement already satisfied: stack-data in c:\\users\\sarojini.g\\appdata\\roaming\\python\\python312\\site-packages (from ipython>=6.1.0->ipywidgets) (0.6.3)\n",
      "Requirement already satisfied: colorama in c:\\users\\sarojini.g\\appdata\\roaming\\python\\python312\\site-packages (from ipython>=6.1.0->ipywidgets) (0.4.6)\n",
      "Requirement already satisfied: parso<0.9.0,>=0.8.3 in c:\\users\\sarojini.g\\appdata\\roaming\\python\\python312\\site-packages (from jedi>=0.16->ipython>=6.1.0->ipywidgets) (0.8.4)\n",
      "Requirement already satisfied: wcwidth in c:\\users\\sarojini.g\\appdata\\roaming\\python\\python312\\site-packages (from prompt-toolkit<3.1.0,>=3.0.41->ipython>=6.1.0->ipywidgets) (0.2.13)\n",
      "Requirement already satisfied: executing>=1.2.0 in c:\\users\\sarojini.g\\appdata\\roaming\\python\\python312\\site-packages (from stack-data->ipython>=6.1.0->ipywidgets) (2.0.1)\n",
      "Requirement already satisfied: asttokens>=2.1.0 in c:\\users\\sarojini.g\\appdata\\roaming\\python\\python312\\site-packages (from stack-data->ipython>=6.1.0->ipywidgets) (2.4.1)\n",
      "Requirement already satisfied: pure-eval in c:\\users\\sarojini.g\\appdata\\roaming\\python\\python312\\site-packages (from stack-data->ipython>=6.1.0->ipywidgets) (0.2.2)\n",
      "Requirement already satisfied: six>=1.12.0 in c:\\users\\sarojini.g\\appdata\\roaming\\python\\python312\\site-packages (from asttokens>=2.1.0->stack-data->ipython>=6.1.0->ipywidgets) (1.16.0)\n",
      "Note: you may need to restart the kernel to use updated packages.\n"
     ]
    }
   ],
   "source": [
    "pip install ipywidgets\n"
   ]
  },
  {
   "cell_type": "code",
   "execution_count": 12,
   "metadata": {},
   "outputs": [
    {
     "name": "stdout",
     "output_type": "stream",
     "text": [
      "Defaulting to user installation because normal site-packages is not writeable\n",
      "Requirement already satisfied: opencv-python in c:\\users\\sarojini.g\\appdata\\roaming\\python\\python312\\site-packages (4.10.0.84)\n",
      "Requirement already satisfied: pytesseract in c:\\users\\sarojini.g\\appdata\\roaming\\python\\python312\\site-packages (0.3.10)\n",
      "Requirement already satisfied: Pillow in c:\\users\\sarojini.g\\appdata\\roaming\\python\\python312\\site-packages (10.3.0)\n",
      "Requirement already satisfied: ipywidgets in c:\\users\\sarojini.g\\appdata\\roaming\\python\\python312\\site-packages (8.1.2)\n",
      "Requirement already satisfied: numpy>=1.21.2 in c:\\users\\sarojini.g\\appdata\\roaming\\python\\python312\\site-packages (from opencv-python) (1.26.4)\n",
      "Requirement already satisfied: packaging>=21.3 in c:\\users\\sarojini.g\\appdata\\roaming\\python\\python312\\site-packages (from pytesseract) (24.0)\n",
      "Requirement already satisfied: comm>=0.1.3 in c:\\users\\sarojini.g\\appdata\\roaming\\python\\python312\\site-packages (from ipywidgets) (0.2.2)\n",
      "Requirement already satisfied: ipython>=6.1.0 in c:\\users\\sarojini.g\\appdata\\roaming\\python\\python312\\site-packages (from ipywidgets) (8.23.0)\n",
      "Requirement already satisfied: traitlets>=4.3.1 in c:\\users\\sarojini.g\\appdata\\roaming\\python\\python312\\site-packages (from ipywidgets) (5.14.2)\n",
      "Requirement already satisfied: widgetsnbextension~=4.0.10 in c:\\users\\sarojini.g\\appdata\\roaming\\python\\python312\\site-packages (from ipywidgets) (4.0.10)\n",
      "Requirement already satisfied: jupyterlab-widgets~=3.0.10 in c:\\users\\sarojini.g\\appdata\\roaming\\python\\python312\\site-packages (from ipywidgets) (3.0.10)\n",
      "Requirement already satisfied: decorator in c:\\users\\sarojini.g\\appdata\\roaming\\python\\python312\\site-packages (from ipython>=6.1.0->ipywidgets) (5.1.1)\n",
      "Requirement already satisfied: jedi>=0.16 in c:\\users\\sarojini.g\\appdata\\roaming\\python\\python312\\site-packages (from ipython>=6.1.0->ipywidgets) (0.19.1)\n",
      "Requirement already satisfied: matplotlib-inline in c:\\users\\sarojini.g\\appdata\\roaming\\python\\python312\\site-packages (from ipython>=6.1.0->ipywidgets) (0.1.6)\n",
      "Requirement already satisfied: prompt-toolkit<3.1.0,>=3.0.41 in c:\\users\\sarojini.g\\appdata\\roaming\\python\\python312\\site-packages (from ipython>=6.1.0->ipywidgets) (3.0.43)\n",
      "Requirement already satisfied: pygments>=2.4.0 in c:\\users\\sarojini.g\\appdata\\roaming\\python\\python312\\site-packages (from ipython>=6.1.0->ipywidgets) (2.17.2)\n",
      "Requirement already satisfied: stack-data in c:\\users\\sarojini.g\\appdata\\roaming\\python\\python312\\site-packages (from ipython>=6.1.0->ipywidgets) (0.6.3)\n",
      "Requirement already satisfied: colorama in c:\\users\\sarojini.g\\appdata\\roaming\\python\\python312\\site-packages (from ipython>=6.1.0->ipywidgets) (0.4.6)\n",
      "Requirement already satisfied: parso<0.9.0,>=0.8.3 in c:\\users\\sarojini.g\\appdata\\roaming\\python\\python312\\site-packages (from jedi>=0.16->ipython>=6.1.0->ipywidgets) (0.8.4)\n",
      "Requirement already satisfied: wcwidth in c:\\users\\sarojini.g\\appdata\\roaming\\python\\python312\\site-packages (from prompt-toolkit<3.1.0,>=3.0.41->ipython>=6.1.0->ipywidgets) (0.2.13)\n",
      "Requirement already satisfied: executing>=1.2.0 in c:\\users\\sarojini.g\\appdata\\roaming\\python\\python312\\site-packages (from stack-data->ipython>=6.1.0->ipywidgets) (2.0.1)\n",
      "Requirement already satisfied: asttokens>=2.1.0 in c:\\users\\sarojini.g\\appdata\\roaming\\python\\python312\\site-packages (from stack-data->ipython>=6.1.0->ipywidgets) (2.4.1)\n",
      "Requirement already satisfied: pure-eval in c:\\users\\sarojini.g\\appdata\\roaming\\python\\python312\\site-packages (from stack-data->ipython>=6.1.0->ipywidgets) (0.2.2)\n",
      "Requirement already satisfied: six>=1.12.0 in c:\\users\\sarojini.g\\appdata\\roaming\\python\\python312\\site-packages (from asttokens>=2.1.0->stack-data->ipython>=6.1.0->ipywidgets) (1.16.0)\n",
      "Note: you may need to restart the kernel to use updated packages.\n"
     ]
    }
   ],
   "source": [
    "pip install opencv-python pytesseract Pillow ipywidgets\n"
   ]
  },
  {
   "cell_type": "code",
   "execution_count": 13,
   "metadata": {},
   "outputs": [
    {
     "data": {
      "application/vnd.jupyter.widget-view+json": {
       "model_id": "4aa99de73520414a8fd2c3fb8a5dabd7",
       "version_major": 2,
       "version_minor": 0
      },
      "text/plain": [
       "FileUpload(value=(), accept='image/*', description='Upload')"
      ]
     },
     "metadata": {},
     "output_type": "display_data"
    },
    {
     "name": "stdout",
     "output_type": "stream",
     "text": [
      "Extracted Text: Brae faant ARG Wea\n",
      "INCOMETAX DEPARTMENT © @§8 © GOVT. OFINDIA\n",
      "\n",
      "varh den dea arg\n",
      "Permanent Account Number Card art\n",
      "JLH8Y032TQ OF F0)|\n",
      "i\n",
      "\n",
      "ara / Name\n",
      "Adarsh kumar Oo]\n",
      "\n",
      "‘fen ar AT / Father's Name\n",
      "\n",
      "Santosh singh\n",
      "\n",
      "ine ae a ge mar. . q\n",
      "17/06/1995, q see -\n",
      "mae pn 7 Say\n",
      "\n"
     ]
    },
    {
     "data": {
      "application/vnd.jupyter.widget-view+json": {
       "model_id": "7cabea64e7174ba180461759e7679fbd",
       "version_major": 2,
       "version_minor": 0
      },
      "text/plain": [
       "HTML(value='<h3>Invalid ID Proof</h3>')"
      ]
     },
     "metadata": {},
     "output_type": "display_data"
    },
    {
     "name": "stdout",
     "output_type": "stream",
     "text": [
      "Extracted Text: ce URd ROR\n",
      "ee Government of India\n",
      "\n",
      "ty\n",
      "rai at\n",
      "\n",
      "XXXXXXXX\n",
      "\n",
      "XXXXXXXXXXX\n",
      "OFA ae / Year of Birth : XXXX\n",
      "Yeo / MALE\n",
      "\n",
      "A\n",
      "\n",
      "0000 1111 2222\n",
      "\n",
      "\n"
     ]
    },
    {
     "data": {
      "application/vnd.jupyter.widget-view+json": {
       "model_id": "8bc4a35bce89430ebc46ebe730d5102e",
       "version_major": 2,
       "version_minor": 0
      },
      "text/plain": [
       "HTML(value='<h3>Valid Aadhar Card</h3>')"
      ]
     },
     "metadata": {},
     "output_type": "display_data"
    }
   ],
   "source": [
    "import pytesseract\n",
    "import cv2\n",
    "import numpy as np\n",
    "from PIL import Image\n",
    "import ipywidgets as widgets\n",
    "from IPython.display import display\n",
    "import re\n",
    "\n",
    "# Set the Tesseract executable path (adjust as necessary)\n",
    "pytesseract.pytesseract.tesseract_cmd = r'C:\\Users\\sarojini.G\\Tesseract-OCR\\tesseract.exe'\n",
    "\n",
    "# Function to validate PAN card using regular expression\n",
    "def validate_pan(text):\n",
    "    pattern = r'[A-Z]{5}[0-9]{4}[A-Z]{1}'\n",
    "    return bool(re.search(pattern, text))\n",
    "\n",
    "# Function to validate Aadhar card using regular expression\n",
    "def validate_aadhar(text):\n",
    "    pattern = r'\\d{4}\\s\\d{4}\\s\\d{4}'\n",
    "    return bool(re.search(pattern, text))\n",
    "\n",
    "# Function to process the uploaded image and extract text using OCR\n",
    "def process_image(file_content):\n",
    "    # Convert the image bytes to a NumPy array\n",
    "    file_bytes = np.frombuffer(file_content, np.uint8)\n",
    "    card_region = cv2.imdecode(file_bytes, cv2.IMREAD_COLOR)\n",
    "    \n",
    "    # Convert the card region to grayscale\n",
    "    card_gray = cv2.cvtColor(card_region, cv2.COLOR_BGR2GRAY)\n",
    "\n",
    "    # Apply thresholding to get a binary image\n",
    "    _, card_thresh = cv2.threshold(card_gray, 150, 255, cv2.THRESH_BINARY)\n",
    "\n",
    "    # Perform OCR on the card region\n",
    "    text = pytesseract.image_to_string(card_thresh)\n",
    "\n",
    "    print(\"Extracted Text:\", text)\n",
    "\n",
    "    # Validate the extracted text to check if it matches PAN or Aadhar card format\n",
    "    if validate_pan(text):\n",
    "        result = 'Valid PAN Card'\n",
    "    elif validate_aadhar(text):\n",
    "        result = 'Valid Aadhar Card'\n",
    "    else:\n",
    "        result = 'Invalid ID Proof'\n",
    "    \n",
    "    # Display the result\n",
    "    display(widgets.HTML(f\"<h3>{result}</h3>\"))\n",
    "\n",
    "# File upload widget\n",
    "upload = widgets.FileUpload(\n",
    "    accept='image/*',  # Accept images only\n",
    "    multiple=False  # Allow only a single file upload\n",
    ")\n",
    "\n",
    "# Display the file upload widget in the notebook\n",
    "display(upload)\n",
    "\n",
    "# Function to handle file upload and trigger image processing\n",
    "def on_upload_change(change):\n",
    "    # Get the uploaded file content\n",
    "    for file_info in upload.value:\n",
    "        file_content = file_info['content']\n",
    "        # Process the uploaded image\n",
    "        process_image(file_content)\n",
    "\n",
    "# Set up an observer to handle file upload events\n",
    "upload.observe(on_upload_change, names='value')\n"
   ]
  },
  {
   "cell_type": "markdown",
   "metadata": {},
   "source": [
    "sample card issued by Goverment "
   ]
  }
 ],
 "metadata": {
  "kernelspec": {
   "display_name": "Python 3",
   "language": "python",
   "name": "python3"
  },
  "language_info": {
   "codemirror_mode": {
    "name": "ipython",
    "version": 3
   },
   "file_extension": ".py",
   "mimetype": "text/x-python",
   "name": "python",
   "nbconvert_exporter": "python",
   "pygments_lexer": "ipython3",
   "version": "3.12.2"
  }
 },
 "nbformat": 4,
 "nbformat_minor": 2
}
